{
 "cells": [
  {
   "cell_type": "markdown",
   "metadata": {},
   "source": [
    "# Introduction into this corona simulation"
   ]
  },
  {
   "cell_type": "markdown",
   "metadata": {},
   "source": [
    "**Overall this simulation differentiates between 2 lenses**\n",
    "    1. Evaluation of an individual simulation\n",
    "    2. Description of the scenario that is simulated\n",
    "        a. Description of the desease\n",
    "        b. Description of the environment\n",
    "        c. Description of the social reaction on the desease within the environment"
   ]
  },
  {
   "cell_type": "markdown",
   "metadata": {},
   "source": [
    "## 1. Simulation evaluation\n",
    "\n",
    "Every simulation depends on the variables of the scenario described above (e.g., $N_{agents}$, $D_{impact}$, etc.). Even though there is a multitude of criteria one could use to asses the outcome of a scenario. I chose 3 main outcomes:\n",
    "\n",
    "* **Death rate**: $N_{dead}/N_{agents}$ assesses how many agents have died until the end of the simulation (i.e., simulation ends if there are no more sick agents).\n",
    "* **Stress on healthcare system** via Peak$_{sick}$: The highest percentage of sick agents throughout the simulation. This is a proxy on how flat the infection curve will be. No social distancing will lead to high values of Peak$_{sick}$ indicating that e.g., 50% of the population are sick at the same time.\n",
    "* **Economic losses** via workhours lost: The number of simulation hours/days that are lost due to inactivity of agents (either death or via social distancing). Every inactive agent inreases this number."
   ]
  },
  {
   "cell_type": "markdown",
   "metadata": {},
   "source": [
    "## 2.a Desease description"
   ]
  },
  {
   "cell_type": "markdown",
   "metadata": {},
   "source": [
    "Agents can be in one of 4 states **healthy**, **sick**, **recovered**, **dead**. Healthy agents get infected by sick agents upon contact and will stay sick for $R_{duration}$. Depending on likelihood $R_{fatality}$ the sick agent will transition into state **recovered** or **dead**. The likelihood of contact (i.e., infection) is governed by $R_{spread}$. The higher $R_{spread}$ the faster the agents move in the simulation and therefore increase their likelihood of contact."
   ]
  },
  {
   "cell_type": "markdown",
   "metadata": {},
   "source": [
    "* $R_{spread}$: Number of agents that an infected agent will infect (e.g., 2.2)\n",
    "* $R_{duration}$: Duration of agent staying in state sick after infection (e.g., 8 days)\n",
    "* $R_{fatality}$: Likelihood of agent dying (transition sick -> death) after $R_{duration}$ (e.g., 10%)"
   ]
  },
  {
   "cell_type": "markdown",
   "metadata": {},
   "source": [
    "## 2.b Environment description"
   ]
  },
  {
   "cell_type": "markdown",
   "metadata": {},
   "source": [
    "Of course, the simulation will depend on the number of agents $N$ and the density of the agents $\\rho$."
   ]
  },
  {
   "cell_type": "markdown",
   "metadata": {},
   "source": [
    "* $N$: Number of agents\n",
    "* $w$: Width of the simulated area\n",
    "* $h$: Height of the simulated area\n",
    "* $r$: Radius of the agents in the simulated area\n",
    "* $\\rho$: Density of agents in the simulated area $\\rho = \\frac{w h}{N \\pi r^2}$"
   ]
  },
  {
   "cell_type": "markdown",
   "metadata": {},
   "source": [
    "## 2.c Social reaction description\n",
    "\n",
    "All agents can be in either of 2 social states: **active**, **inactive**. All **active** agents move. All **inactive** agents do not move and increase the number of **non-working agent days**, which is this simulations proxy for lost economic activity."
   ]
  },
  {
   "cell_type": "markdown",
   "metadata": {},
   "source": [
    "### 2.c.i Effectiveness of testing\n",
    "\n",
    "One key to success is proper testing. Therefore, this simulation includes two parameters that will be used by other measures to gauge their measures.\n",
    "\n",
    "* $I_{recovered}$ : Percentage of recovered agents that the public knows about.\n",
    "* $I_{sick}$: Percentage of sick agent that the public knows about."
   ]
  },
  {
   "cell_type": "markdown",
   "metadata": {},
   "source": [
    "## 2.c.ii Social distancing\n",
    "\n",
    "Another major reaction is social distancing. In the simulation agents that are socially distancing are not moving at all, but can still infect or be infected by other agents. The major question is when do you start social distancing, when do you release it and how strong do you make it.\n",
    "\n",
    "* $D_{start}$: Percentage of population that needs to be known to be sick (i.e. $N_{sick} * I_{sick}$) to start social distancing\n",
    "* $D_{stop}$: Similar as above, but for stopping social distancing. Typically, $D_{start} > D_{stop}$, which means social distancing is only stopped if number of sick agents is lower than when social distancing was started.\n",
    "* $D_{impact}$: Percentage of population that will not move, i.e., will participate in social distancing."
   ]
  },
  {
   "cell_type": "markdown",
   "metadata": {},
   "source": [
    "## 2.c.iii Immune pass\n",
    "A currently discussed reaction is to allow recovered agents (i.e. $N_{recovered} * I_{recovered}$) to be socially active again, via a so called immune pass/certification.\n",
    "\n",
    "* $D_{recovered}$: If true recovered agents will move again, even if social distancing measures are active."
   ]
  },
  {
   "cell_type": "markdown",
   "metadata": {},
   "source": [
    "## 2.c.iv Corona parties\n",
    "One highly disputed measure is to allow for corona parties, where agents participate every 1-2 weeks in a large infectuous party to spread the virus across deemed less-risky agents.\n",
    "* $P_{freq}$: Frequency of parties in days (e.g., $P_{freq}=14$ means corona parties every 14 days)\n",
    "* $R_{boost}$: Multiplier for how much stronger infection spreads during a corona party (e.g., $R_{boost}=3$ means that an agent spreads the desease to 3 times as many other agents as normally). In the simulation the speed of the agents is trippled, during the corona parties."
   ]
  },
  {
   "cell_type": "code",
   "execution_count": null,
   "metadata": {},
   "outputs": [],
   "source": []
  },
  {
   "cell_type": "code",
   "execution_count": null,
   "metadata": {},
   "outputs": [],
   "source": []
  }
 ],
 "metadata": {
  "kernelspec": {
   "display_name": "Python 3",
   "language": "python",
   "name": "python3"
  },
  "language_info": {
   "codemirror_mode": {
    "name": "ipython",
    "version": 3
   },
   "file_extension": ".py",
   "mimetype": "text/x-python",
   "name": "python",
   "nbconvert_exporter": "python",
   "pygments_lexer": "ipython3",
   "version": "3.7.4"
  }
 },
 "nbformat": 4,
 "nbformat_minor": 2
}
